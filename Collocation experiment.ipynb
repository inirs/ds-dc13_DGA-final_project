{
 "cells": [
  {
   "cell_type": "code",
   "execution_count": 1,
   "metadata": {
    "collapsed": true
   },
   "outputs": [],
   "source": [
    "import nltk\n",
    "import nltk.collocations\n",
    "import nltk.corpus\n",
    "import collections\n",
    "from nltk.util import ngrams"
   ]
  },
  {
   "cell_type": "code",
   "execution_count": 2,
   "metadata": {
    "collapsed": true
   },
   "outputs": [],
   "source": [
    "english_vocab = set(w.lower() for w in nltk.corpus.words.words())"
   ]
  },
  {
   "cell_type": "code",
   "execution_count": 3,
   "metadata": {
    "collapsed": true
   },
   "outputs": [],
   "source": [
    "bgm = nltk.collocations.BigramAssocMeasures()"
   ]
  },
  {
   "cell_type": "code",
   "execution_count": 4,
   "metadata": {
    "collapsed": true
   },
   "outputs": [],
   "source": [
    "def compute_collocation_for_bigrams(words):\n",
    "    finder = nltk.collocations.BigramCollocationFinder.from_words(nltk.corpus.brown.words())\n",
    "    def create_filter(words):\n",
    "        def bigram_filter(w1, w2):\n",
    "            return (w1 not in words and w2 not in words) \n",
    "        return bigram_filter\n",
    "    my_filter = create_filter(words)\n",
    "    finder.apply_freq_filter(3)\n",
    "    finder.apply_ngram_filter(my_filter)\n",
    "    ngram_sorted_score_list = finder.score_ngrams(bgm.pmi)\n",
    "    feature_score = 0\n",
    "    for item, score in ngram_sorted_score_list:\n",
    "        if words[0] == item[0] and words[1] == item[1]:\n",
    "            feature_score = feature_score + score\n",
    "    return feature_score"
   ]
  },
  {
   "cell_type": "code",
   "execution_count": 5,
   "metadata": {
    "collapsed": true
   },
   "outputs": [],
   "source": [
    "def get_dict_words(domain):\n",
    "    word_list = []\n",
    "    for i in range(0,(len(domain)+1)):\n",
    "        for j in range(i,(len(domain)+1)):\n",
    "            word = domain[i:j+1]\n",
    "            if word in english_vocab and len(word)>2:\n",
    "                word_list.append(word)\n",
    "    return word_list"
   ]
  },
  {
   "cell_type": "code",
   "execution_count": 6,
   "metadata": {
    "collapsed": true
   },
   "outputs": [],
   "source": [
    "def compute_average_collocation_score(domain):\n",
    "    bigrams=ngrams(get_dict_words(domain),2)\n",
    "    total_score = 0\n",
    "    bigram_count = 0\n",
    "    score = 0\n",
    "    for bigram in bigrams:\n",
    "        bigram_count = bigram_count + 1\n",
    "        total_score = total_score + compute_collocation_for_bigrams(bigram)\n",
    "    if bigram_count != 0:\n",
    "        score = total_score/bigram_count\n",
    "    return score"
   ]
  },
  {
   "cell_type": "code",
   "execution_count": 12,
   "metadata": {
    "collapsed": true
   },
   "outputs": [],
   "source": [
    "from timeit import default_timer as timer"
   ]
  },
  {
   "cell_type": "code",
   "execution_count": 14,
   "metadata": {
    "collapsed": false
   },
   "outputs": [
    {
     "name": "stdout",
     "output_type": "stream",
     "text": [
      "42.4970400333\n"
     ]
    }
   ],
   "source": [
    "start = timer()\n",
    "val = compute_average_collocation_score('getabighouse')\n",
    "end = timer()\n",
    "print(end - start)"
   ]
  }
 ],
 "metadata": {
  "kernelspec": {
   "display_name": "Python 2",
   "language": "python",
   "name": "python2"
  },
  "language_info": {
   "codemirror_mode": {
    "name": "ipython",
    "version": 2
   },
   "file_extension": ".py",
   "mimetype": "text/x-python",
   "name": "python",
   "nbconvert_exporter": "python",
   "pygments_lexer": "ipython2",
   "version": "2.7.10"
  }
 },
 "nbformat": 4,
 "nbformat_minor": 0
}
