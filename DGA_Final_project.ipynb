{
 "cells": [
  {
   "cell_type": "markdown",
   "metadata": {},
   "source": [
    "# DGA DETECTION MODEL"
   ]
  },
  {
   "cell_type": "code",
   "execution_count": 70,
   "metadata": {
    "collapsed": false
   },
   "outputs": [],
   "source": [
    "# IMPORT MODULES\n",
    "\n",
    "import pandas as pd\n",
    "import numpy as np\n",
    "%matplotlib inline\n",
    "import matplotlib.pyplot as plt\n",
    "\n",
    "from sklearn.linear_model import LogisticRegression\n",
    "from sklearn.cross_validation import train_test_split\n",
    "from sklearn import metrics\n",
    "from sklearn.cross_validation import cross_val_score"
   ]
  },
  {
   "cell_type": "markdown",
   "metadata": {},
   "source": [
    "# Data Ingestion"
   ]
  },
  {
   "cell_type": "code",
   "execution_count": 71,
   "metadata": {
    "collapsed": false
   },
   "outputs": [
    {
     "data": {
      "text/html": [
       "<div>\n",
       "<table border=\"1\" class=\"dataframe\">\n",
       "  <thead>\n",
       "    <tr style=\"text-align: right;\">\n",
       "      <th></th>\n",
       "      <th>0</th>\n",
       "      <th>domains</th>\n",
       "    </tr>\n",
       "  </thead>\n",
       "  <tbody>\n",
       "    <tr>\n",
       "      <th>47125</th>\n",
       "      <td>wdnglqepcvqgd</td>\n",
       "      <td>wdnglqepcvqgd</td>\n",
       "    </tr>\n",
       "    <tr>\n",
       "      <th>24129</th>\n",
       "      <td>jnrajjtytbtk</td>\n",
       "      <td>jnrajjtytbtk</td>\n",
       "    </tr>\n",
       "    <tr>\n",
       "      <th>16003</th>\n",
       "      <td>fbuqcjjrzkjgmvcqpamztnra</td>\n",
       "      <td>fbuqcjjrzkjgmvcqpamztnra</td>\n",
       "    </tr>\n",
       "    <tr>\n",
       "      <th>27356</th>\n",
       "      <td>lhyumjltydrsp</td>\n",
       "      <td>lhyumjltydrsp</td>\n",
       "    </tr>\n",
       "    <tr>\n",
       "      <th>32109</th>\n",
       "      <td>ny0pkvviyi171mkulddml3fpt</td>\n",
       "      <td>ny0pkvviyi171mkulddml3fpt</td>\n",
       "    </tr>\n",
       "  </tbody>\n",
       "</table>\n",
       "</div>"
      ],
      "text/plain": [
       "                               0                    domains\n",
       "47125              wdnglqepcvqgd              wdnglqepcvqgd\n",
       "24129               jnrajjtytbtk               jnrajjtytbtk\n",
       "16003   fbuqcjjrzkjgmvcqpamztnra   fbuqcjjrzkjgmvcqpamztnra\n",
       "27356              lhyumjltydrsp              lhyumjltydrsp\n",
       "32109  ny0pkvviyi171mkulddml3fpt  ny0pkvviyi171mkulddml3fpt"
      ]
     },
     "execution_count": 71,
     "metadata": {},
     "output_type": "execute_result"
    }
   ],
   "source": [
    "# READ Clean Domains\n",
    "data_clean = pd.read_csv('Alexa_CleanDomains.csv',header=None)\n",
    "data_clean['domains']=data_clean[0]\n",
    "\n",
    "\n",
    "# READ DGA Domains\n",
    "data_dga = pd.read_csv('DGADomains.csv',header=None)\n",
    "data_dga['domains']=data_dga[0]\n",
    "\n",
    "data_dga.sample(5)\n"
   ]
  },
  {
   "cell_type": "markdown",
   "metadata": {},
   "source": [
    " # Data Prep"
   ]
  },
  {
   "cell_type": "code",
   "execution_count": 72,
   "metadata": {
    "collapsed": false
   },
   "outputs": [
    {
     "data": {
      "text/html": [
       "<div>\n",
       "<table border=\"1\" class=\"dataframe\">\n",
       "  <thead>\n",
       "    <tr style=\"text-align: right;\">\n",
       "      <th></th>\n",
       "      <th>domains</th>\n",
       "    </tr>\n",
       "  </thead>\n",
       "  <tbody>\n",
       "    <tr>\n",
       "      <th>829136</th>\n",
       "      <td>omonilelawyer</td>\n",
       "    </tr>\n",
       "    <tr>\n",
       "      <th>828865</th>\n",
       "      <td>droolcup</td>\n",
       "    </tr>\n",
       "    <tr>\n",
       "      <th>500786</th>\n",
       "      <td>pandoon</td>\n",
       "    </tr>\n",
       "    <tr>\n",
       "      <th>727277</th>\n",
       "      <td>wordpress</td>\n",
       "    </tr>\n",
       "  </tbody>\n",
       "</table>\n",
       "</div>"
      ],
      "text/plain": [
       "              domains\n",
       "829136  omonilelawyer\n",
       "828865       droolcup\n",
       "500786        pandoon\n",
       "727277      wordpress"
      ]
     },
     "execution_count": 72,
     "metadata": {},
     "output_type": "execute_result"
    }
   ],
   "source": [
    "# Clean Data without Index\n",
    "train_clean = pd.DataFrame(data_clean['domains'])\n",
    "train_clean.sample(4)\n"
   ]
  },
  {
   "cell_type": "code",
   "execution_count": 73,
   "metadata": {
    "collapsed": false
   },
   "outputs": [],
   "source": [
    "clean_dom = train_clean[[0]] # 0 are clean\n",
    "\n",
    "clean_domains = clean_dom.values\n",
    "#clean_domains=clean_domains1.tolist()\n",
    "clean_domains_flat = [val for sublist in clean_domains for val in sublist]\n",
    "#clean_domains_flat"
   ]
  },
  {
   "cell_type": "code",
   "execution_count": 74,
   "metadata": {
    "collapsed": false
   },
   "outputs": [],
   "source": [
    "# Clean Data without Index\n",
    "\n",
    "df_dga = pd.DataFrame(data_dga['domains'])\n",
    "train_dga = df_dga\n",
    "\n",
    "dga_dom = train_dga[[0]]\n",
    "dga_domains = dga_dom.values\n",
    "dga_domains_flat = [val for sublist in dga_domains for val in sublist]\n",
    "# dga_domains_flat"
   ]
  },
  {
   "cell_type": "markdown",
   "metadata": {},
   "source": [
    "\n",
    "# FEATURE EXTRACTION"
   ]
  },
  {
   "cell_type": "markdown",
   "metadata": {},
   "source": [
    "# FEATURE 1 : Domain Entropy "
   ]
  },
  {
   "cell_type": "code",
   "execution_count": 75,
   "metadata": {
    "collapsed": false
   },
   "outputs": [],
   "source": [
    "# Shannon entropy H of a given input string.\n",
    "# Given the discreet random variable X that is a string of N \"symbols\" consisting of n different characters (n=2 for binary), \n",
    "# the Shannon entropy of X in bits/symbol is : where count is the count of character n.\n",
    "\n",
    "import math\n",
    "from collections import Counter\n",
    "\n",
    "def entropy(s):\n",
    "    p, lns = Counter(s), float(len(s))\n",
    "    return -sum( count/lns * math.log(count/lns, 2) for count in p.values())"
   ]
  },
  {
   "cell_type": "code",
   "execution_count": 76,
   "metadata": {
    "collapsed": false
   },
   "outputs": [],
   "source": [
    "# Entropy of clean dataset\n",
    "entropy_clean = []\n",
    "\n",
    "for l in clean_domains_flat:\n",
    "    entropy_clean.append(entropy(str(l)))\n",
    "\n",
    "# Check the Entropy Values\n",
    "#entropy_clean"
   ]
  },
  {
   "cell_type": "code",
   "execution_count": 77,
   "metadata": {
    "collapsed": false
   },
   "outputs": [],
   "source": [
    "# Entropy of dga dataset\n",
    "entropy_dga = []\n",
    "for ll in dga_domains_flat:\n",
    "    entropy_dga.append(entropy(ll))\n",
    "\n",
    "# Check the Entropy Values\n",
    "#entropy_dga"
   ]
  },
  {
   "cell_type": "code",
   "execution_count": 78,
   "metadata": {
    "collapsed": false
   },
   "outputs": [
    {
     "name": "stdout",
     "output_type": "stream",
     "text": [
      "2.7729247366\n",
      "3.53054001114\n"
     ]
    }
   ],
   "source": [
    "print(np.mean(entropy_clean))\n",
    "print(np.mean(entropy_dga))"
   ]
  },
  {
   "cell_type": "code",
   "execution_count": 79,
   "metadata": {
    "collapsed": false
   },
   "outputs": [
    {
     "data": {
      "text/html": [
       "<div>\n",
       "<table border=\"1\" class=\"dataframe\">\n",
       "  <thead>\n",
       "    <tr style=\"text-align: right;\">\n",
       "      <th></th>\n",
       "      <th>domains</th>\n",
       "      <th>label</th>\n",
       "      <th>entropy</th>\n",
       "    </tr>\n",
       "  </thead>\n",
       "  <tbody>\n",
       "    <tr>\n",
       "      <th>26579</th>\n",
       "      <td>kxyopcewejxtnma</td>\n",
       "      <td>1</td>\n",
       "      <td>3.640224</td>\n",
       "    </tr>\n",
       "    <tr>\n",
       "      <th>15602</th>\n",
       "      <td>ewkovrirsprw</td>\n",
       "      <td>1</td>\n",
       "      <td>3.022055</td>\n",
       "    </tr>\n",
       "    <tr>\n",
       "      <th>37501</th>\n",
       "      <td>qvvycgguufmu</td>\n",
       "      <td>1</td>\n",
       "      <td>2.855389</td>\n",
       "    </tr>\n",
       "    <tr>\n",
       "      <th>5861</th>\n",
       "      <td>3gmway1oa6fh1tsyauyj60o03</td>\n",
       "      <td>1</td>\n",
       "      <td>3.863465</td>\n",
       "    </tr>\n",
       "    <tr>\n",
       "      <th>38927</th>\n",
       "      <td>rqfrbcvjjdpcau</td>\n",
       "      <td>1</td>\n",
       "      <td>3.378783</td>\n",
       "    </tr>\n",
       "  </tbody>\n",
       "</table>\n",
       "</div>"
      ],
      "text/plain": [
       "                         domains label   entropy\n",
       "26579            kxyopcewejxtnma     1  3.640224\n",
       "15602               ewkovrirsprw     1  3.022055\n",
       "37501               qvvycgguufmu     1  2.855389\n",
       "5861   3gmway1oa6fh1tsyauyj60o03     1  3.863465\n",
       "38927             rqfrbcvjjdpcau     1  3.378783"
      ]
     },
     "execution_count": 79,
     "metadata": {},
     "output_type": "execute_result"
    }
   ],
   "source": [
    "clean_dom['label'] = \"0\"\n",
    "dga_dom['label'] = \"1\"\n",
    "\n",
    "# Add entropy calculations to dataframes\n",
    "clean_dom['entropy'] = entropy_clean\n",
    "dga_dom['entropy'] = entropy_dga\n",
    "\n",
    "dga_dom.sample(5)"
   ]
  },
  {
   "cell_type": "markdown",
   "metadata": {},
   "source": [
    "# FEATURE 2 : Domain Length"
   ]
  },
  {
   "cell_type": "code",
   "execution_count": 80,
   "metadata": {
    "collapsed": true
   },
   "outputs": [],
   "source": [
    "# lexical study\n",
    "def dom_length(s):\n",
    "    \n",
    "    return len(s)"
   ]
  },
  {
   "cell_type": "code",
   "execution_count": 81,
   "metadata": {
    "collapsed": false
   },
   "outputs": [],
   "source": [
    "len_clean = []\n",
    "for ll in clean_domains_flat:\n",
    "    len_clean.append(dom_length(str(ll)))"
   ]
  },
  {
   "cell_type": "code",
   "execution_count": 82,
   "metadata": {
    "collapsed": false
   },
   "outputs": [],
   "source": [
    "len_dga = []\n",
    "for ll in dga_domains_flat:\n",
    "    len_dga.append(dom_length(ll))"
   ]
  },
  {
   "cell_type": "code",
   "execution_count": 83,
   "metadata": {
    "collapsed": false
   },
   "outputs": [],
   "source": [
    "# Length\n",
    "clean_dom['length'] = len_clean\n",
    "dga_dom['length'] = len_dga"
   ]
  },
  {
   "cell_type": "code",
   "execution_count": 84,
   "metadata": {
    "collapsed": false
   },
   "outputs": [
    {
     "name": "stdout",
     "output_type": "stream",
     "text": [
      "10.0062963686\n",
      "17.7261834685\n"
     ]
    }
   ],
   "source": [
    "print(np.mean(len_clean))\n",
    "print(np.mean(len_dga))"
   ]
  },
  {
   "cell_type": "markdown",
   "metadata": {},
   "source": [
    "# FEATURE 3 : Vowel ratio"
   ]
  },
  {
   "cell_type": "code",
   "execution_count": 85,
   "metadata": {
    "collapsed": false
   },
   "outputs": [],
   "source": [
    "vowels = list(\"aeiou\")\n",
    "consonants = list(\"bcdfghjklmnpqrstvxzy\")"
   ]
  },
  {
   "cell_type": "code",
   "execution_count": 86,
   "metadata": {
    "collapsed": false
   },
   "outputs": [],
   "source": [
    "# Feature Consonant/length\n",
    "def conlen_ratio(s):\n",
    "    number_of_vowels = sum(str(s).count(c) for c in vowels)\n",
    "    ratio= float(number_of_vowels)/len(s)\n",
    "    return ratio"
   ]
  },
  {
   "cell_type": "code",
   "execution_count": 87,
   "metadata": {
    "collapsed": false
   },
   "outputs": [],
   "source": [
    "# Clean data\n",
    "cl_ratio_clean = []\n",
    "for ll in clean_domains_flat:\n",
    "    cl_ratio_clean.append(conlen_ratio(str(ll)))"
   ]
  },
  {
   "cell_type": "code",
   "execution_count": 88,
   "metadata": {
    "collapsed": false
   },
   "outputs": [],
   "source": [
    "# Clean data\n",
    "cl_ratio_dga = []\n",
    "for ll in dga_domains_flat:\n",
    "    cl_ratio_dga.append(conlen_ratio(ll))\n",
    "    "
   ]
  },
  {
   "cell_type": "code",
   "execution_count": 89,
   "metadata": {
    "collapsed": false
   },
   "outputs": [
    {
     "data": {
      "text/html": [
       "<div>\n",
       "<table border=\"1\" class=\"dataframe\">\n",
       "  <thead>\n",
       "    <tr style=\"text-align: right;\">\n",
       "      <th></th>\n",
       "      <th>domains</th>\n",
       "      <th>label</th>\n",
       "      <th>entropy</th>\n",
       "      <th>length</th>\n",
       "    </tr>\n",
       "  </thead>\n",
       "  <tbody>\n",
       "    <tr>\n",
       "      <th>0</th>\n",
       "      <td>google</td>\n",
       "      <td>0</td>\n",
       "      <td>1.918296</td>\n",
       "      <td>6</td>\n",
       "    </tr>\n",
       "    <tr>\n",
       "      <th>1</th>\n",
       "      <td>youtube</td>\n",
       "      <td>0</td>\n",
       "      <td>2.521641</td>\n",
       "      <td>7</td>\n",
       "    </tr>\n",
       "    <tr>\n",
       "      <th>2</th>\n",
       "      <td>facebook</td>\n",
       "      <td>0</td>\n",
       "      <td>2.750000</td>\n",
       "      <td>8</td>\n",
       "    </tr>\n",
       "    <tr>\n",
       "      <th>3</th>\n",
       "      <td>baidu</td>\n",
       "      <td>0</td>\n",
       "      <td>2.321928</td>\n",
       "      <td>5</td>\n",
       "    </tr>\n",
       "    <tr>\n",
       "      <th>4</th>\n",
       "      <td>yahoo</td>\n",
       "      <td>0</td>\n",
       "      <td>1.921928</td>\n",
       "      <td>5</td>\n",
       "    </tr>\n",
       "  </tbody>\n",
       "</table>\n",
       "</div>"
      ],
      "text/plain": [
       "    domains label   entropy  length\n",
       "0    google     0  1.918296       6\n",
       "1   youtube     0  2.521641       7\n",
       "2  facebook     0  2.750000       8\n",
       "3     baidu     0  2.321928       5\n",
       "4     yahoo     0  1.921928       5"
      ]
     },
     "execution_count": 89,
     "metadata": {},
     "output_type": "execute_result"
    }
   ],
   "source": [
    "clean_dom.head()"
   ]
  },
  {
   "cell_type": "code",
   "execution_count": 90,
   "metadata": {
    "collapsed": false
   },
   "outputs": [
    {
     "name": "stdout",
     "output_type": "stream",
     "text": [
      "0.358365814794\n",
      "0.182585978075\n"
     ]
    }
   ],
   "source": [
    "print(np.mean(cl_ratio_clean))\n",
    "print(np.mean(cl_ratio_dga))"
   ]
  },
  {
   "cell_type": "code",
   "execution_count": 91,
   "metadata": {
    "collapsed": true
   },
   "outputs": [],
   "source": [
    "# Add ratio calculations to dataframes\n",
    "clean_dom['ratio'] = cl_ratio_clean\n",
    "dga_dom['ratio'] = cl_ratio_dga"
   ]
  },
  {
   "cell_type": "markdown",
   "metadata": {},
   "source": [
    "# FEATURE 4 : Distinct Characters/length"
   ]
  },
  {
   "cell_type": "code",
   "execution_count": 129,
   "metadata": {
    "collapsed": false
   },
   "outputs": [],
   "source": [
    "0# Feature 4 : Distinct Character\n",
    "def dom_distchar(s):\n",
    " dist_char = ''.join(set(s)) \n",
    " \n",
    " return len(dist_char)/len(s)"
   ]
  },
  {
   "cell_type": "code",
   "execution_count": 135,
   "metadata": {
    "collapsed": false
   },
   "outputs": [],
   "source": [
    "#print dom_distchar('testing')"
   ]
  },
  {
   "cell_type": "code",
   "execution_count": 134,
   "metadata": {
    "collapsed": false
   },
   "outputs": [],
   "source": [
    "# Clean\n",
    "dist_clean = []\n",
    "for ll in clean_domains_flat:\n",
    "    dist_clean.append(dom_distchar(str(ll)))\n",
    "    \n",
    "dist_dirty = []\n",
    "for ll in dga_domains_flat:\n",
    "    dist_dirty.append(dom_distchar(str(ll)))    \n",
    "\n",
    "#dist_clean"
   ]
  },
  {
   "cell_type": "code",
   "execution_count": 94,
   "metadata": {
    "collapsed": false
   },
   "outputs": [
    {
     "name": "stdout",
     "output_type": "stream",
     "text": [
      "0.213067991375\n",
      "0.0134249852838\n"
     ]
    }
   ],
   "source": [
    "print(np.mean(dist_clean))\n",
    "print(np.mean(dist_dirty))"
   ]
  },
  {
   "cell_type": "code",
   "execution_count": 95,
   "metadata": {
    "collapsed": false
   },
   "outputs": [
    {
     "name": "stdout",
     "output_type": "stream",
     "text": [
      "999465\n"
     ]
    }
   ],
   "source": [
    "# Add ratio calculations to dataframes\n",
    "clean_dom['diff_char'] = dist_clean\n",
    "dga_dom['diff_char'] = dist_dirty\n",
    "print(len(clean_dom))"
   ]
  },
  {
   "cell_type": "code",
   "execution_count": 96,
   "metadata": {
    "collapsed": false,
    "scrolled": true
   },
   "outputs": [],
   "source": [
    "feature_dataset =  pd.concat([clean_dom, dga_dom], ignore_index=True)\n"
   ]
  },
  {
   "cell_type": "markdown",
   "metadata": {},
   "source": [
    "# FEATURE 5: PercentageCoverage\n"
   ]
  },
  {
   "cell_type": "code",
   "execution_count": 97,
   "metadata": {
    "collapsed": false
   },
   "outputs": [],
   "source": [
    "import nltk\n",
    "#nltk.download()\n",
    "english_vocab = set(w.lower() for w in nltk.corpus.words.words())"
   ]
  },
  {
   "cell_type": "code",
   "execution_count": 98,
   "metadata": {
    "collapsed": true
   },
   "outputs": [],
   "source": [
    "def getPercentageCoverage(s):\n",
    "    count = 0\n",
    "    tcount = 0\n",
    "    for i in range(0,len(s)):\n",
    "        for j in range(i,len(s)):\n",
    "            if s[i:j+1] in english_vocab:\n",
    "                tcount += 1\n",
    "            count += 1\n",
    "    return tcount / float(count) "
   ]
  },
  {
   "cell_type": "code",
   "execution_count": 99,
   "metadata": {
    "collapsed": false
   },
   "outputs": [],
   "source": [
    "feature_dataset[\"pctCoverage\"] = feature_dataset[\"domains\"].apply(lambda x: getPercentageCoverage(str(x)))\n"
   ]
  },
  {
   "cell_type": "code",
   "execution_count": 100,
   "metadata": {
    "collapsed": true
   },
   "outputs": [],
   "source": [
    "# FEATURE: NUMBER OF DIGITS PER UNIT LENGTH IN EACH DOMAIN\n",
    "def num_digits(s):\n",
    "   o = sum(c.isdigit() for c in s)\n",
    "   return o\n",
    "\n",
    "feature_dataset[\"digits\"] = feature_dataset[\"domains\"].apply(lambda x: num_digits(str(x))/len(str(x)))"
   ]
  },
  {
   "cell_type": "code",
   "execution_count": 101,
   "metadata": {
    "collapsed": true
   },
   "outputs": [],
   "source": [
    "char_set = \"abcdefghijklmnopqrstuvwxyz-\"\n",
    "for ch in char_set:\n",
    "    feature_dataset[ch] = feature_dataset[\"domains\"].apply(lambda x: float(str(x).count(ch))/len(str(x)))"
   ]
  },
  {
   "cell_type": "code",
   "execution_count": 102,
   "metadata": {
    "collapsed": false
   },
   "outputs": [
    {
     "name": "stdout",
     "output_type": "stream",
     "text": [
      "     domains label   entropy  length     ratio  diff_char  pctCoverage  \\\n",
      "0     google     0  1.918296       6  0.500000          0     0.476190   \n",
      "1    youtube     0  2.521641       7  0.571429          0     0.571429   \n",
      "2   facebook     0  2.750000       8  0.500000          0     0.444444   \n",
      "3      baidu     0  2.321928       5  0.600000          1     0.600000   \n",
      "4      yahoo     0  1.921928       5  0.600000          0     0.733333   \n",
      "5     amazon     0  2.251629       6  0.500000          0     0.666667   \n",
      "6  wikipedia     0  2.641604       9  0.555556          0     0.333333   \n",
      "7         qq     0 -0.000000       2  0.000000          0     0.666667   \n",
      "8     google     0  1.918296       6  0.500000          0     0.476190   \n",
      "9    twitter     0  2.128085       7  0.285714          0     0.571429   \n",
      "\n",
      "   digits         a         b ...          r    s         t         u    v  \\\n",
      "0       0  0.000000  0.000000 ...   0.000000  0.0  0.000000  0.000000  0.0   \n",
      "1       0  0.000000  0.142857 ...   0.000000  0.0  0.142857  0.285714  0.0   \n",
      "2       0  0.125000  0.125000 ...   0.000000  0.0  0.000000  0.000000  0.0   \n",
      "3       0  0.200000  0.200000 ...   0.000000  0.0  0.000000  0.200000  0.0   \n",
      "4       0  0.200000  0.000000 ...   0.000000  0.0  0.000000  0.000000  0.0   \n",
      "5       0  0.333333  0.000000 ...   0.000000  0.0  0.000000  0.000000  0.0   \n",
      "6       0  0.111111  0.000000 ...   0.000000  0.0  0.000000  0.000000  0.0   \n",
      "7       0  0.000000  0.000000 ...   0.000000  0.0  0.000000  0.000000  0.0   \n",
      "8       0  0.000000  0.000000 ...   0.000000  0.0  0.000000  0.000000  0.0   \n",
      "9       0  0.000000  0.000000 ...   0.142857  0.0  0.428571  0.000000  0.0   \n",
      "\n",
      "          w    x         y         z    -  \n",
      "0  0.000000  0.0  0.000000  0.000000  0.0  \n",
      "1  0.000000  0.0  0.142857  0.000000  0.0  \n",
      "2  0.000000  0.0  0.000000  0.000000  0.0  \n",
      "3  0.000000  0.0  0.000000  0.000000  0.0  \n",
      "4  0.000000  0.0  0.200000  0.000000  0.0  \n",
      "5  0.000000  0.0  0.000000  0.166667  0.0  \n",
      "6  0.111111  0.0  0.000000  0.000000  0.0  \n",
      "7  0.000000  0.0  0.000000  0.000000  0.0  \n",
      "8  0.000000  0.0  0.000000  0.000000  0.0  \n",
      "9  0.142857  0.0  0.000000  0.000000  0.0  \n",
      "\n",
      "[10 rows x 35 columns]\n"
     ]
    }
   ],
   "source": [
    "print(feature_dataset[:10])"
   ]
  },
  {
   "cell_type": "markdown",
   "metadata": {},
   "source": [
    "# DUMP DGA MODEL FEATURE DATA AS A .CSV FILE"
   ]
  },
  {
   "cell_type": "code",
   "execution_count": 103,
   "metadata": {
    "collapsed": false
   },
   "outputs": [],
   "source": [
    "# Output \n",
    "#with open('C:\\\\Users\\\\xoc201\\\\Documents\\\\Correlation\\\\feature_dataset.csv','a') as dd:\n",
    "    #feature_dataset.to_csv(dd, index=False)"
   ]
  },
  {
   "cell_type": "markdown",
   "metadata": {},
   "source": [
    "# Random Forest Model"
   ]
  },
  {
   "cell_type": "code",
   "execution_count": 136,
   "metadata": {
    "collapsed": false
   },
   "outputs": [],
   "source": [
    "msk = np.random.rand(len(feature_dataset)) < 0.75\n",
    "\n",
    "train = feature_dataset[msk]\n",
    "\n",
    "test = feature_dataset[~msk]\n",
    "\n",
    "from sklearn.ensemble import RandomForestClassifier\n",
    "features = feature_dataset.columns[2:45]"
   ]
  },
  {
   "cell_type": "code",
   "execution_count": 137,
   "metadata": {
    "collapsed": false
   },
   "outputs": [],
   "source": [
    "clf = RandomForestClassifier(n_jobs=30)\n",
    "y, _ = pd.factorize(train['label'])"
   ]
  },
  {
   "cell_type": "code",
   "execution_count": 138,
   "metadata": {
    "collapsed": false
   },
   "outputs": [
    {
     "name": "stdout",
     "output_type": "stream",
     "text": [
      "Index([u'entropy', u'length', u'ratio', u'diff_char', u'pctCoverage',\n",
      "       u'digits', u'a', u'b', u'c', u'd', u'e', u'f', u'g', u'h', u'i', u'j',\n",
      "       u'k', u'l', u'm', u'n', u'o', u'p', u'q', u'r', u's', u't', u'u', u'v',\n",
      "       u'w', u'x', u'y', u'z', u'-'],\n",
      "      dtype='object')\n"
     ]
    }
   ],
   "source": [
    "clf.fit(train[features], y)\n",
    "predicted = clf.predict(test[features])\n",
    "print(features)"
   ]
  },
  {
   "cell_type": "code",
   "execution_count": 107,
   "metadata": {
    "collapsed": false
   },
   "outputs": [
    {
     "name": "stdout",
     "output_type": "stream",
     "text": [
      "[[298927    256]\n",
      " [  1108  14492]]\n"
     ]
    }
   ],
   "source": [
    "y_test, _ = pd.factorize(test['label'])\n",
    "print(metrics.confusion_matrix(y_test, predicted))"
   ]
  },
  {
   "cell_type": "code",
   "execution_count": 108,
   "metadata": {
    "collapsed": false
   },
   "outputs": [
    {
     "name": "stdout",
     "output_type": "stream",
     "text": [
      "             precision    recall  f1-score   support\n",
      "\n",
      "          0       1.00      1.00      1.00    299183\n",
      "          1       0.98      0.93      0.96     15600\n",
      "\n",
      "avg / total       1.00      1.00      1.00    314783\n",
      "\n"
     ]
    }
   ],
   "source": [
    "print(metrics.classification_report(y_test, predicted))"
   ]
  },
  {
   "cell_type": "code",
   "execution_count": 109,
   "metadata": {
    "collapsed": false
   },
   "outputs": [
    {
     "name": "stdout",
     "output_type": "stream",
     "text": [
      "0.995666856215\n"
     ]
    }
   ],
   "source": [
    "print(metrics.accuracy_score(y_test, predicted))"
   ]
  },
  {
   "cell_type": "markdown",
   "metadata": {},
   "source": [
    "# Feature Importance"
   ]
  },
  {
   "cell_type": "code",
   "execution_count": 110,
   "metadata": {
    "collapsed": false
   },
   "outputs": [
    {
     "data": {
      "text/plain": [
       "array([  9.51385859e-02,   1.31846887e-01,   8.40606431e-02,\n",
       "         1.61071050e-03,   2.36314521e-01,   2.31383532e-06,\n",
       "         1.31145322e-02,   8.44698825e-03,   3.90626956e-03,\n",
       "         4.53100598e-03,   4.00264631e-02,   2.18235120e-02,\n",
       "         6.24786117e-03,   5.57467589e-03,   9.11934899e-03,\n",
       "         3.91044289e-02,   6.39955097e-03,   4.27600189e-03,\n",
       "         5.55108071e-03,   6.84196201e-03,   7.20416649e-03,\n",
       "         5.14314074e-03,   8.00637788e-02,   5.91490493e-03,\n",
       "         6.27532788e-03,   4.09792038e-03,   8.32147783e-03,\n",
       "         2.39819827e-02,   2.02412923e-02,   5.40864587e-02,\n",
       "         1.21798178e-02,   2.79734959e-03,   4.57550386e-02])"
      ]
     },
     "execution_count": 110,
     "metadata": {},
     "output_type": "execute_result"
    }
   ],
   "source": [
    "clf.feature_importances_\n",
    "\n",
    "# Feature List\n",
    "# 'entropy', 'length', 'ratio', 'diff_char', 'pctCoverage', 'a', 'b', 'c',\n",
    "#       'd', 'e', 'f', 'g', 'h', 'i', 'j', 'k', 'l', 'm', 'n', 'o', 'p', 'q',\n",
    "#       'r', 's', 't', 'u', 'v', 'w', 'x', 'y', 'z', 'digits'"
   ]
  },
  {
   "cell_type": "code",
   "execution_count": 111,
   "metadata": {
    "collapsed": false
   },
   "outputs": [
    {
     "data": {
      "image/png": "[encoded data removed]",
      "text/plain": [
       "<matplotlib.figure.Figure at 0x10595c110>"
      ]
     },
     "metadata": {},
     "output_type": "display_data"
    }
   ],
   "source": [
    "import matplotlib.pyplot as plt; plt.rcdefaults()\n",
    "import numpy as np\n",
    "import matplotlib.pyplot as plt\n",
    "\n",
    "\n",
    "objects = clf.feature_importances_\n",
    "y_pos = np.arange(len(objects))\n",
    " \n",
    "b1 = plt.bar(y_pos, objects, align='center', alpha=0.5)\n",
    "#plt.xticks(y_pos, objects)\n",
    "\n",
    "plt.ylabel('Score')\n",
    "plt.title('Feature Importance')\n",
    "\n",
    "plt.show()\n",
    "\n",
    "# Feature List from feature 0 (=Entropy) to feature 31 \n",
    "# 'entropy', 'length', 'ratio', 'diff_char', 'pctCoverage', 'a', 'b', 'c',\n",
    "#       'd', 'e', 'f', 'g', 'h', 'i', 'j', 'k', 'l', 'm', 'n', 'o', 'p', 'q',\n",
    "#       'r', 's', 't', 'u', 'v', 'w', 'x', 'y', 'z', 'digits'"
   ]
  },
  {
   "cell_type": "code",
   "execution_count": null,
   "metadata": {
    "collapsed": true
   },
   "outputs": [],
   "source": []
  }
 ],
 "metadata": {
  "kernelspec": {
   "display_name": "Python 2",
   "language": "python",
   "name": "python2"
  },
  "language_info": {
   "codemirror_mode": {
    "name": "ipython",
    "version": 2
   },
   "file_extension": ".py",
   "mimetype": "text/x-python",
   "name": "python",
   "nbconvert_exporter": "python",
   "pygments_lexer": "ipython2",
   "version": "2.7.11"
  }
 },
 "nbformat": 4,
 "nbformat_minor": 0
}
