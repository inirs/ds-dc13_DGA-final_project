{
 "cells": [
  {
   "cell_type": "code",
   "execution_count": 1,
   "metadata": {
    "collapsed": false
   },
   "outputs": [],
   "source": [
    "import pandas as pd\n",
    "pd.set_option('display.max_columns', None)\n",
    "import numpy as np\n",
    "%matplotlib inline\n",
    "import matplotlib.pyplot as plt\n",
    "from sklearn import preprocessing\n",
    "from sklearn import metrics"
   ]
  },
  {
   "cell_type": "code",
   "execution_count": 2,
   "metadata": {
    "collapsed": false
   },
   "outputs": [],
   "source": [
    "feature_dataset1 = pd.read_csv('feature_dataset.csv')\n",
    "feature_dataset1.drop(['a','b','c','d','e','f','g','h','i','j','k','l','m','n','o','p','q','r',\n",
    "                       's','t','u','v','w','x','y','z','entropy','length','tld'], axis=1, inplace=True)\n",
    "feature_dataset1 = feature_dataset1.drop_duplicates()"
   ]
  },
  {
   "cell_type": "code",
   "execution_count": 3,
   "metadata": {
    "collapsed": false
   },
   "outputs": [],
   "source": [
    "feature_dataset2 = pd.read_csv('feature_dataset2.csv')\n",
    "feature_dataset2.drop(['a','b','c','d','e','f','g','h','i','j','k','l','m','n','o','p','q','r',\n",
    "                       's','t','u','v','w','x','y','z','label','tld'], axis=1, inplace=True)\n",
    "#feature_dataset2.drop(['label','tld'], axis=1, inplace=True)"
   ]
  },
  {
   "cell_type": "code",
   "execution_count": 4,
   "metadata": {
    "collapsed": false
   },
   "outputs": [],
   "source": [
    "feature_frame = pd.merge(feature_dataset1, feature_dataset2,  how='inner', on=['domains','family'])"
   ]
  },
  {
   "cell_type": "code",
   "execution_count": 5,
   "metadata": {
    "collapsed": true
   },
   "outputs": [],
   "source": [
    "feature_frame = feature_frame.fillna(0)"
   ]
  },
  {
   "cell_type": "code",
   "execution_count": 6,
   "metadata": {
    "collapsed": false
   },
   "outputs": [
    {
     "data": {
      "text/plain": [
       "domains               1256032\n",
       "family                1256032\n",
       "label                 1256032\n",
       "ratio                 1256032\n",
       "diff_char             1256032\n",
       "pct_coverage          1256032\n",
       "digits                1256032\n",
       "-                     1256032\n",
       "bi-gram_normality     1256032\n",
       "tri-gram_normality    1256032\n",
       "length                1256032\n",
       "entropy               1256032\n",
       "distinct              1256032\n",
       "vowel                 1256032\n",
       "digit                 1256032\n",
       "dash                  1256032\n",
       "gram1                 1256032\n",
       "gram2                 1256032\n",
       "gram3                 1256032\n",
       "gram4                 1256032\n",
       "gram5                 1256032\n",
       "percentage2           1256032\n",
       "percentage3           1256032\n",
       "percentage4           1256032\n",
       "percentage5           1256032\n",
       "hit                   1256032\n",
       "percentage            1256032\n",
       "maxlength             1256032\n",
       "maxhit                1256032\n",
       "maxcoverage           1256032\n",
       "cmaxlength            1256032\n",
       "cmaxhit               1256032\n",
       "cmaxcoverage          1256032\n",
       "full                  1256032\n",
       "agram1                1256032\n",
       "agram2                1256032\n",
       "agram3                1256032\n",
       "agram4                1256032\n",
       "agram5                1256032\n",
       "agram345              1256032\n",
       "dtype: int64"
      ]
     },
     "execution_count": 6,
     "metadata": {},
     "output_type": "execute_result"
    }
   ],
   "source": [
    "feature_frame.count()"
   ]
  },
  {
   "cell_type": "code",
   "execution_count": null,
   "metadata": {
    "collapsed": false
   },
   "outputs": [],
   "source": [
    "msk = np.random.rand(len(feature_frame)) < 0.70\n",
    "train = feature_frame[msk]\n",
    "test = feature_frame[~msk]\n",
    "from sklearn.ensemble import RandomForestClassifier\n",
    "from sklearn.ensemble import GradientBoostingClassifier\n",
    "features = feature_frame.columns[4:]"
   ]
  },
  {
   "cell_type": "code",
   "execution_count": null,
   "metadata": {
    "collapsed": false
   },
   "outputs": [],
   "source": [
    "#clf = RandomForestClassifier(n_jobs=50)\n",
    "clf = GradientBoostingClassifier(n_estimators=200,\n",
    "                             max_depth=5,\n",
    "                             init=None,\n",
    "                             verbose=2)\n",
    "y, _ = pd.factorize(train['label'])"
   ]
  },
  {
   "cell_type": "code",
   "execution_count": null,
   "metadata": {
    "collapsed": false
   },
   "outputs": [],
   "source": [
    "clf.fit(train[features], y)\n",
    "test['prediction'] = clf.predict(test[features])\n",
    "predicted_proba = clf.predict_proba(test[features])\n",
    "print(features)"
   ]
  },
  {
   "cell_type": "code",
   "execution_count": null,
   "metadata": {
    "collapsed": false
   },
   "outputs": [],
   "source": [
    "bad_probability = [y for x, y in predicted_proba]\n",
    "test['bad_prob'] = bad_probability"
   ]
  },
  {
   "cell_type": "code",
   "execution_count": null,
   "metadata": {
    "collapsed": false
   },
   "outputs": [],
   "source": [
    "y_test, _ = pd.factorize(test['label'])\n",
    "print(metrics.confusion_matrix(y_test, test['prediction']))"
   ]
  },
  {
   "cell_type": "code",
   "execution_count": null,
   "metadata": {
    "collapsed": false
   },
   "outputs": [],
   "source": [
    "print(metrics.classification_report(y_test, test['prediction']))"
   ]
  },
  {
   "cell_type": "code",
   "execution_count": null,
   "metadata": {
    "collapsed": false
   },
   "outputs": [],
   "source": [
    "print(metrics.accuracy_score(y_test, test['prediction']))"
   ]
  },
  {
   "cell_type": "code",
   "execution_count": null,
   "metadata": {
    "collapsed": false
   },
   "outputs": [],
   "source": [
    "clf.feature_importances_"
   ]
  },
  {
   "cell_type": "code",
   "execution_count": null,
   "metadata": {
    "collapsed": false
   },
   "outputs": [],
   "source": [
    "features"
   ]
  },
  {
   "cell_type": "code",
   "execution_count": null,
   "metadata": {
    "collapsed": false
   },
   "outputs": [],
   "source": [
    "import matplotlib.pyplot as plt; plt.rcdefaults()\n",
    "import numpy as np\n",
    "import matplotlib.pyplot as plt\n",
    "objects = clf.feature_importances_\n",
    "y_pos = np.arange(len(objects))\n",
    "b1 = plt.bar(y_pos, objects, align='center', alpha=0.5)\n",
    "plt.ylabel('Score')\n",
    "plt.title('Feature Importance')\n",
    "plt.show()"
   ]
  },
  {
   "cell_type": "code",
   "execution_count": null,
   "metadata": {
    "collapsed": true
   },
   "outputs": [],
   "source": []
  },
  {
   "cell_type": "code",
   "execution_count": null,
   "metadata": {
    "collapsed": true
   },
   "outputs": [],
   "source": [
    "bluecoat1 = pd.read_csv('bluecoat.csv')\n",
    "bluecoat1.drop(['a','b','c','d','e','f','g','h','i','j','k','l','m','n','o','p','q','r',\n",
    "                       's','t','u','v','w','x','y','z','entropy','length','tld'], axis=1, inplace=True)\n",
    "bluecoat1 = bluecoat1.drop_duplicates()"
   ]
  },
  {
   "cell_type": "code",
   "execution_count": null,
   "metadata": {
    "collapsed": false
   },
   "outputs": [],
   "source": [
    "bluecoat2 = pd.read_csv('bluecoat2.csv')\n",
    "bluecoat2.drop(['tld'], axis=1, inplace=True)"
   ]
  },
  {
   "cell_type": "code",
   "execution_count": null,
   "metadata": {
    "collapsed": true
   },
   "outputs": [],
   "source": [
    "bluecoat_frame = pd.merge(bluecoat1, bluecoat2,  how='inner', on=['domains'])"
   ]
  },
  {
   "cell_type": "code",
   "execution_count": null,
   "metadata": {
    "collapsed": true
   },
   "outputs": [],
   "source": [
    "bluecoat_frame = bluecoat_frame.fillna(0)"
   ]
  },
  {
   "cell_type": "code",
   "execution_count": null,
   "metadata": {
    "collapsed": false
   },
   "outputs": [],
   "source": [
    "bluecoat_frame['prediction'] = clf.predict(bluecoat_frame[features])\n",
    "predicted_proba = clf.predict_proba(bluecoat_frame[features])\n",
    "print(features)"
   ]
  },
  {
   "cell_type": "code",
   "execution_count": null,
   "metadata": {
    "collapsed": true
   },
   "outputs": [],
   "source": [
    "bad_probability = [y for x, y in predicted_proba]\n",
    "bluecoat_frame['bad_prob'] = bad_probability"
   ]
  },
  {
   "cell_type": "code",
   "execution_count": null,
   "metadata": {
    "collapsed": true
   },
   "outputs": [],
   "source": []
  },
  {
   "cell_type": "code",
   "execution_count": null,
   "metadata": {
    "collapsed": false
   },
   "outputs": [],
   "source": [
    "filtered = bluecoat_frame[['domains','bad_prob','prediction']]\n",
    "filtered1 = filtered[filtered['prediction']==1]\n",
    "filtered2 = filtered1.sort(['bad_prob'], ascending=False).reset_index(drop=True)\n",
    "sure_bad = filtered2[:4]"
   ]
  },
  {
   "cell_type": "code",
   "execution_count": null,
   "metadata": {
    "collapsed": false
   },
   "outputs": [],
   "source": [
    "filtered11 = filtered[filtered['prediction']==0]\n",
    "filtered22 = filtered11.sort(['bad_prob'], ascending=True).reset_index(drop=True)\n",
    "sure_good = filtered22[20000:20005]"
   ]
  },
  {
   "cell_type": "code",
   "execution_count": null,
   "metadata": {
    "collapsed": false
   },
   "outputs": [],
   "source": [
    "filtered111 = filtered[filtered['prediction']==1]\n",
    "filtered222 = filtered111.sort(['bad_prob'], ascending=True).reset_index(drop=True)\n",
    "on_the_border1 = filtered222[:5]"
   ]
  },
  {
   "cell_type": "code",
   "execution_count": null,
   "metadata": {
    "collapsed": false
   },
   "outputs": [],
   "source": [
    "filtered1111 = filtered[filtered['prediction']==1]\n",
    "filtered2222 = filtered1111.sort(['bad_prob'], ascending=False).reset_index(drop=True)\n",
    "#sure_bad = filtered2[:5]\n",
    "def_good0 = filtered2222[filtered2222['domains']=='rsvpify']\n",
    "def_good1 = filtered2222[filtered2222['domains']=='pwcgov']"
   ]
  },
  {
   "cell_type": "code",
   "execution_count": null,
   "metadata": {
    "collapsed": true
   },
   "outputs": [],
   "source": [
    "dict_dga = pd.DataFrame({'domains': ['drinkteach', 'threeusual'],\n",
    "                         'bad_prob': [0.171011, 0.126560],\n",
    "                         'prediction': [0, 0]\n",
    "                        })"
   ]
  },
  {
   "cell_type": "code",
   "execution_count": null,
   "metadata": {
    "collapsed": false
   },
   "outputs": [],
   "source": [
    "demo_data = pd.concat([sure_bad, sure_good, on_the_border1, def_good0, def_good1, dict_dga], ignore_index=True)"
   ]
  },
  {
   "cell_type": "markdown",
   "metadata": {},
   "source": [
    "#We are good at predicting these bad guys"
   ]
  },
  {
   "cell_type": "code",
   "execution_count": null,
   "metadata": {
    "collapsed": false
   },
   "outputs": [],
   "source": [
    "sure_bad"
   ]
  },
  {
   "cell_type": "markdown",
   "metadata": {},
   "source": [
    "#We are good at predicting these good guys"
   ]
  },
  {
   "cell_type": "code",
   "execution_count": null,
   "metadata": {
    "collapsed": false
   },
   "outputs": [],
   "source": [
    "sure_good"
   ]
  },
  {
   "cell_type": "markdown",
   "metadata": {},
   "source": [
    "#We are having slight trouble with these guys but it should be an easy fix"
   ]
  },
  {
   "cell_type": "code",
   "execution_count": null,
   "metadata": {
    "collapsed": false
   },
   "outputs": [],
   "source": [
    "on_the_border1"
   ]
  },
  {
   "cell_type": "markdown",
   "metadata": {},
   "source": [
    "#We are working separately for these guys"
   ]
  },
  {
   "cell_type": "code",
   "execution_count": null,
   "metadata": {
    "collapsed": false
   },
   "outputs": [],
   "source": [
    "pd.concat([def_good0, def_good1, dict_dga], ignore_index=True)"
   ]
  },
  {
   "cell_type": "code",
   "execution_count": null,
   "metadata": {
    "collapsed": false
   },
   "outputs": [],
   "source": [
    "mu = np.mean(test['bad_prob'])\n",
    "sigma = np.std(test['bad_prob'])\n",
    "print(mu)\n",
    "print(sigma)"
   ]
  },
  {
   "cell_type": "code",
   "execution_count": null,
   "metadata": {
    "collapsed": true
   },
   "outputs": [],
   "source": [
    "import matplotlib.mlab as mlab"
   ]
  },
  {
   "cell_type": "code",
   "execution_count": null,
   "metadata": {
    "collapsed": false
   },
   "outputs": [],
   "source": [
    "x = mu + sigma * np.random.randn(10000)\n",
    "\n",
    "num_bins = 376\n",
    "arr = test['bad_prob']\n",
    "arr = [x*100 for x in arr]\n",
    "# the histogram of the data\n",
    "plt.hist(arr, num_bins, normed=0, facecolor='green', alpha=0.5)\n",
    "# add a 'best fit' line\n",
    "#y = mlab.normpdf(bins, mu, sigma)\n",
    "plt.plot(bins, y, 'r--')\n",
    "plt.xlabel('Probability')\n",
    "plt.ylabel('Domains')\n",
    "plt.title(r'Histogram')\n",
    "\n",
    "# Tweak spacing to prevent clipping of ylabel\n",
    "plt.subplots_adjust(left=0.15)\n",
    "plt.show()"
   ]
  },
  {
   "cell_type": "code",
   "execution_count": null,
   "metadata": {
    "collapsed": true
   },
   "outputs": [],
   "source": [
    "import scipy.special\n",
    "\n",
    "from bokeh.plotting import figure, show\n",
    "from bokeh.io import output_notebook\n",
    "output_notebook()"
   ]
  },
  {
   "cell_type": "code",
   "execution_count": null,
   "metadata": {
    "collapsed": false
   },
   "outputs": [],
   "source": [
    "p1 = figure(title=\"Probability Distribution\",tools=\"save\",\n",
    "            background_fill=\"#E8DDCB\")\n",
    "\n",
    "arr = [prob for prob in test['bad_prob'] if prob >= 0.95]\n",
    "\n",
    "hist, edges = np.histogram(arr, density=True, bins=376930)\n",
    "\n",
    "p1.quad(top=hist, bottom=0, left=edges[:-1], right=edges[1:],\n",
    "        fill_color=\"#036564\", line_color=\"#033649\")\n",
    "\n",
    "p1.legend.location = \"top_left\"\n",
    "p1.xaxis.axis_label = 'Probability'\n",
    "p1.yaxis.axis_label = 'Domains'\n",
    "\n",
    "show(p1)"
   ]
  },
  {
   "cell_type": "code",
   "execution_count": null,
   "metadata": {
    "collapsed": false
   },
   "outputs": [],
   "source": [
    "test[test['bad_prob']>=0.95]"
   ]
  }
 ],
 "metadata": {
  "kernelspec": {
   "display_name": "Python 2",
   "language": "python",
   "name": "python2"
  },
  "language_info": {
   "codemirror_mode": {
    "name": "ipython",
    "version": 2
   },
   "file_extension": ".py",
   "mimetype": "text/x-python",
   "name": "python",
   "nbconvert_exporter": "python",
   "pygments_lexer": "ipython2",
   "version": "2.7.11"
  }
 },
 "nbformat": 4,
 "nbformat_minor": 0
}
